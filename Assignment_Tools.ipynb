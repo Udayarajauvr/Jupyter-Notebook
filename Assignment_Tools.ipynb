{
 "cells": [
  {
   "cell_type": "markdown",
   "id": "c96076f2-0148-48d5-b499-e39d96979f5b",
   "metadata": {},
   "source": [
    "# My Jupyter Notebook on IBM Watson Studio"
   ]
  },
  {
   "cell_type": "markdown",
   "id": "9ca7df01-655f-4d29-81ab-79e624985b30",
   "metadata": {},
   "source": [
    "**UdayarajaThambidurai**"
   ]
  },
  {
   "cell_type": "markdown",
   "id": "eb3af27b-cc57-4125-abf0-875acc75b053",
   "metadata": {},
   "source": [
    "Senior Consultant"
   ]
  },
  {
   "cell_type": "markdown",
   "id": "86d78907-9ed6-4498-ad12-03641d16fe27",
   "metadata": {},
   "source": [
    "_I am interested in data science because I can handle lot of data. Having skills in Data Analyitcs Tool like Tableau , Splunk and ClicData.I like use this skill to improve my knowledge in DataScience field_"
   ]
  },
  {
   "cell_type": "markdown",
   "id": "5c4b8742-1045-4895-8067-99e28ae5b7e4",
   "metadata": {},
   "source": [
    "### Adding two numbers and print that number"
   ]
  },
  {
   "cell_type": "code",
   "execution_count": 4,
   "id": "23702695-4c33-457b-8f2f-d0d3d562a990",
   "metadata": {},
   "outputs": [
    {
     "name": "stdout",
     "output_type": "stream",
     "text": [
      "20\n"
     ]
    }
   ],
   "source": [
    "a = 10\n",
    "b = 10\n",
    "c = a+b\n",
    "print(c)"
   ]
  },
  {
   "cell_type": "markdown",
   "id": "ad957d7f-cfd1-4bcb-aa5c-b37f271118fc",
   "metadata": {},
   "source": [
    "Image1: \n",
    "![alt text](https://github.com/adam-p/markdown-here/raw/master/src/common/images/icon48.png \"Logo Title Text 1\")\n",
    "\n",
    "Id | Name | Age\n",
    "--- | --- | ---\n",
    "123 | `John` | **45**\n",
    "246 | `Wick` | **45**\n",
    "\n",
    "More Will Come Thanks...\n",
    "\n",
    "---"
   ]
  },
  {
   "cell_type": "code",
   "execution_count": null,
   "id": "a9522e61-cc8e-44af-b7b2-b56af9d4ee63",
   "metadata": {},
   "outputs": [],
   "source": []
  }
 ],
 "metadata": {
  "kernelspec": {
   "display_name": "Python",
   "language": "python",
   "name": "conda-env-python-py"
  },
  "language_info": {
   "codemirror_mode": {
    "name": "ipython",
    "version": 3
   },
   "file_extension": ".py",
   "mimetype": "text/x-python",
   "name": "python",
   "nbconvert_exporter": "python",
   "pygments_lexer": "ipython3",
   "version": "3.7.12"
  }
 },
 "nbformat": 4,
 "nbformat_minor": 5
}
